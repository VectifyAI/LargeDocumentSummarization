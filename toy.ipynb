{
 "cells": [
  {
   "cell_type": "markdown",
   "metadata": {},
   "source": [
    "## Optimal Chunk-size for Large Document Summarization\n",
    "\n",
    "### Toy comparison"
   ]
  },
  {
   "cell_type": "code",
   "execution_count": 1,
   "metadata": {},
   "outputs": [
    {
     "name": "stdout",
     "output_type": "stream",
     "text": [
      "document: abcdabcdabcdabcdabcdabcdabcdabcdabcdabcd\n",
      "document_size: 10\n",
      "max_chunk_size: 5\n",
      "Naive chunking size list:  [5, 5]\n",
      "Auto chunking size list:  [5, 5]\n",
      "----------------------------------------\n",
      "document: abcdabcdabcdabcdabcdabcdabcdabcdabcdabcdabcd\n",
      "document_size: 11\n",
      "max_chunk_size: 5\n",
      "Naive chunking size list:  [5, 5, 1]\n",
      "Auto chunking size list:  [4, 4, 3]\n",
      "----------------------------------------\n",
      "document: abcdabcdabcdabcdabcdabcdabcdabcdabcdabcdabcdabcd\n",
      "document_size: 12\n",
      "max_chunk_size: 5\n",
      "Naive chunking size list:  [5, 5, 2]\n",
      "Auto chunking size list:  [4, 4, 4]\n",
      "----------------------------------------\n",
      "document: abcdabcdabcdabcdabcdabcdabcdabcdabcdabcdabcdabcdabcd\n",
      "document_size: 13\n",
      "max_chunk_size: 5\n",
      "Naive chunking size list:  [5, 5, 3]\n",
      "Auto chunking size list:  [5, 4, 4]\n",
      "----------------------------------------\n",
      "document: abcdabcdabcdabcdabcdabcdabcdabcdabcdabcdabcdabcdabcdabcd\n",
      "document_size: 14\n",
      "max_chunk_size: 5\n",
      "Naive chunking size list:  [5, 5, 4]\n",
      "Auto chunking size list:  [5, 5, 4]\n",
      "----------------------------------------\n",
      "document: abcdabcdabcdabcdabcdabcdabcdabcdabcdabcdabcdabcdabcdabcdabcd\n",
      "document_size: 15\n",
      "max_chunk_size: 5\n",
      "Naive chunking size list:  [5, 5, 5]\n",
      "Auto chunking size list:  [5, 5, 5]\n",
      "----------------------------------------\n"
     ]
    }
   ],
   "source": [
    "from chunker import naive_chunker, auto_chunker, get_token_size\n",
    "MODEL='gpt-3.5-turbo'\n",
    "\n",
    "def comparison(test_doc, chunk_size):\n",
    "    print('document_size:', get_token_size(test_doc, MODEL))\n",
    "    print('max_chunk_size:', chunk_size)\n",
    "    naive_chunk_list=naive_chunker(test_doc, chunk_size, MODEL)\n",
    "    print('Naive chunking size list: ', [get_token_size(chunk, MODEL) for chunk in naive_chunk_list])\n",
    "    auto_chunk_list=auto_chunker(test_doc, chunk_size, MODEL)\n",
    "    print('Auto chunking size list: ', [get_token_size(chunk, MODEL) for chunk in auto_chunk_list])\n",
    "    print('----------------------------------------')\n",
    "\n",
    "\n",
    "CHUNK_SIZE=5\n",
    "single_token_text=\"abcd\"\n",
    "\n",
    "for i in range(10, 16):\n",
    "    test_doc=single_token_text*i\n",
    "    print('document:',test_doc)\n",
    "    comparison(test_doc, chunk_size=CHUNK_SIZE)"
   ]
  }
 ],
 "metadata": {
  "kernelspec": {
   "display_name": "hack",
   "language": "python",
   "name": "python3"
  },
  "language_info": {
   "codemirror_mode": {
    "name": "ipython",
    "version": 3
   },
   "file_extension": ".py",
   "mimetype": "text/x-python",
   "name": "python",
   "nbconvert_exporter": "python",
   "pygments_lexer": "ipython3",
   "version": "3.9.16"
  },
  "orig_nbformat": 4
 },
 "nbformat": 4,
 "nbformat_minor": 2
}
