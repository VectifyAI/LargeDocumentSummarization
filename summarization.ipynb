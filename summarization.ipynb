{
 "cells": [
  {
   "cell_type": "markdown",
   "metadata": {},
   "source": [
    "## Optimal Chunk-size for Large Document Summarization\n",
    "\n",
    "### Large document summarization"
   ]
  },
  {
   "cell_type": "code",
   "execution_count": 2,
   "metadata": {},
   "outputs": [
    {
     "name": "stdout",
     "output_type": "stream",
     "text": [
      "The document has a size of: 9160\n"
     ]
    }
   ],
   "source": [
    "from chunker import naive_chunker, auto_chunker,get_token_size\n",
    "from utils import  get_chunk_summary, get_global_summary\n",
    "import textwrap\n",
    "\n",
    "OPENAI_KEY=\"your key here\"\n",
    "MODEL='gpt-3.5-turbo'\n",
    "\n",
    "with open('./documents/startupideas.txt', 'r') as file:\n",
    "    test_document=file.read()\n",
    "\n",
    "print('The document has a size of:',get_token_size(test_document, MODEL))"
   ]
  },
  {
   "cell_type": "markdown",
   "metadata": {},
   "source": [
    "#### Biased Global Summarization with Naive chunking method\n",
    "We intentionally selected a chunk size of 3000 to highlight the problem more clearly."
   ]
  },
  {
   "cell_type": "code",
   "execution_count": 3,
   "metadata": {},
   "outputs": [],
   "source": [
    "CHUNK_SIZE=3000\n",
    "naive_chunks=naive_chunker(test_document, CHUNK_SIZE, MODEL)\n",
    "naive_chunk_summaries=[get_chunk_summary(chunk,  OPENAI_KEY, MODEL) for chunk in naive_chunks]\n",
    "naive_global_summary=get_global_summary(naive_chunk_summaries,OPENAI_KEY, MODEL)"
   ]
  },
  {
   "cell_type": "code",
   "execution_count": 9,
   "metadata": {},
   "outputs": [
    {
     "name": "stdout",
     "output_type": "stream",
     "text": [
      "chunk size list: [3000, 3000, 3000, 160] \n",
      "\n",
      "last chunk text:  already exist.  Anything that got built this way would be\n",
      "very promising, because such users are not just the most demanding\n",
      "but also the perfect point to spread from.I have no idea whether this would work.[17]\n",
      "And the reason it used a TV for a monitor is that Steve Wozniak\n",
      "started out by solving his own problems.  He, like most of his\n",
      "peers, couldn't afford a monitor.Thanks to Sam Altman, Mike Arrington, Paul Buchheit, John Collison,\n",
      "Patrick Collison, Garry Tan, and Harj Taggar for reading drafts of\n",
      "this, and Marc Andreessen, Joe Gebbia, Reid Hoffman, Shel Kaphan,\n",
      "Mike Moritz and Kevin Systrom for answering my questions about\n",
      "startup history. \n",
      "\n"
     ]
    }
   ],
   "source": [
    "print('chunk size list:',[get_token_size(chunk, MODEL) for chunk in naive_chunks], '\\n')\n",
    "print('last chunk text:',naive_chunks[-1], '\\n')"
   ]
  },
  {
   "cell_type": "markdown",
   "metadata": {},
   "source": [
    "**The final chunk has a size of 160, which ideally shouldn't contribute any significant information to the global summary.**"
   ]
  },
  {
   "cell_type": "code",
   "execution_count": 5,
   "metadata": {},
   "outputs": [
    {
     "name": "stdout",
     "output_type": "stream",
     "text": [
      "global summary: The document discusses the importance of understanding user needs and creating\n",
      "products that fulfill those needs in order to build successful startups. It\n",
      "emphasizes the danger of building products that no one wants and the need to\n",
      "focus on a specific group of users who urgently need the product. The chunk also\n",
      "mentions the importance of being at the leading edge of a rapidly changing field\n",
      "and having a mind that is prepared to notice opportunities for startup ideas. It\n",
      "suggests that startup ideas should come from the founders' own experiences and\n",
      "that the most successful startups begin organically. The document also discusses\n",
      "the process of coming up with startup ideas, emphasizing the importance of\n",
      "living in the future and identifying what is missing in the present. It advises\n",
      "against focusing too much on entrepreneurship education and instead recommends\n",
      "gaining knowledge in different fields to identify problems that software can\n",
      "solve. The document provides advice and strategies for finding startup ideas,\n",
      "suggesting looking for ideas in areas where you have expertise, identifying\n",
      "unmet needs of yourself or others, and seeking out waves or trends that could\n",
      "lead to new opportunities. It also emphasizes the importance of being open-\n",
      "minded, observing gaps and anomalies, and focusing on users rather than\n",
      "competitors. The chunk mentions the potential of building something that already\n",
      "exists and targeting demanding users who can spread the word. It explains why\n",
      "Steve Wozniak used a TV as a monitor when starting out. The document concludes\n",
      "by encouraging individuals to question the status quo and look for things that\n",
      "are missing in order to find startup ideas.\n"
     ]
    }
   ],
   "source": [
    "print('global summary:', textwrap.fill(naive_global_summary, 80))"
   ]
  },
  {
   "cell_type": "markdown",
   "metadata": {},
   "source": [
    "**However, in the produced global summary, it erroneously emphasizes the content of this final chunk:** \n",
    "\n",
    ">\"It explains why Steve Wozniak used a TV as a monitor when starting out. The document concludes by encouraging individuals to question the status quo and look for things that are missing in order to find startup ideas.\""
   ]
  },
  {
   "cell_type": "markdown",
   "metadata": {},
   "source": [
    "### Chunking with automatic chunk size determination\n",
    "\n",
    "We use the same chunk size 3000 as our MAX_CHUNK_SIZE."
   ]
  },
  {
   "cell_type": "code",
   "execution_count": 3,
   "metadata": {},
   "outputs": [],
   "source": [
    "MAX_CHUNK_SIZE=3000\n",
    "auto_chunks=auto_chunker(test_document, MAX_CHUNK_SIZE, MODEL)\n",
    "auto_chunk_summaries=[get_chunk_summary(chunk,  OPENAI_KEY, MODEL) for chunk in auto_chunks]\n",
    "auto_global_summary=get_global_summary(auto_chunk_summaries,OPENAI_KEY, MODEL)"
   ]
  },
  {
   "cell_type": "code",
   "execution_count": 4,
   "metadata": {},
   "outputs": [
    {
     "name": "stdout",
     "output_type": "stream",
     "text": [
      "chunk size list: [2290, 2290, 2290, 2290] \n",
      "\n"
     ]
    }
   ],
   "source": [
    "print('chunk size list:',[get_token_size(chunk, MODEL) for chunk in auto_chunks],'\\n')"
   ]
  },
  {
   "cell_type": "markdown",
   "metadata": {},
   "source": [
    "**We can see the chunk sizes are more balanced with our method.**"
   ]
  },
  {
   "cell_type": "code",
   "execution_count": 5,
   "metadata": {},
   "outputs": [
    {
     "name": "stdout",
     "output_type": "stream",
     "text": [
      "global summary: The author reflects on their experience starting a company and emphasizes the\n",
      "importance of paying attention to users' needs. They discuss the danger of\n",
      "\"made-up\" startup ideas that sound plausible but do not have a market demand.\n",
      "The author suggests that good startup ideas are those that address a specific\n",
      "group or type of user and have a path for growth. They also mention that being\n",
      "at the leading edge of a field or having experiences that prepare the mind to\n",
      "notice opportunities can lead to successful startup ideas. The author concludes\n",
      "by stating that preparation and being in the right mindset are key factors in\n",
      "generating organic startup ideas.  The document chunk discusses the process of\n",
      "finding startup ideas. It emphasizes the importance of being at the leading edge\n",
      "of a rapidly changing field and noticing things that are missing. It suggests\n",
      "questioning the status quo and focusing on problems that annoy or challenge you.\n",
      "The document also mentions the benefits of working on projects that seem\n",
      "interesting or like \"toys,\" as they often lead to good startup ideas. It advises\n",
      "college students to focus on ratcheting themselves into the future rather than\n",
      "learning about entrepreneurship in a classroom setting. The document also\n",
      "mentions the clash of domains as a source of ideas and suggests working in\n",
      "unrelated fields to find startup ideas. It warns against focusing too much on\n",
      "research and highlights the importance of solving users' problems. Finally, the\n",
      "document mentions that feeling late to an idea is a sign of a good idea and\n",
      "encourages not to be deterred by competition.  The document chunk discusses\n",
      "various factors to consider when coming up with startup ideas. It emphasizes\n",
      "that competition should not be a major concern, as success depends more on the\n",
      "founder's abilities and the urgency of the problem being solved. It also\n",
      "suggests turning off filters such as the unsexy filter and the schlep filter to\n",
      "explore less conventional ideas. The chunk provides tips for generating startup\n",
      "ideas, including looking for gaps in the market, considering personal expertise\n",
      "and needs, and talking to others about their unmet needs.  The document chunk\n",
      "discusses strategies for finding startup ideas. It suggests that founders should\n",
      "seek out unsexy or unglamorous ideas that people will pay for. It also\n",
      "recommends looking for dying industries or companies that can be replaced by a\n",
      "new innovative solution. The document emphasizes the importance of serving a\n",
      "small but important market that big players ignore and riding on bigger waves of\n",
      "technological advancements. It also mentions the need for founders to have the\n",
      "right background and to live in the future by building what seems interesting.\n",
      "The document concludes by stating that finding startup ideas is a subtle\n",
      "business and that it takes time and observation to notice gaps and anomalies\n",
      "that can be turned into interesting projects.\n"
     ]
    }
   ],
   "source": [
    "print('global summary:', textwrap.fill(auto_global_summary, 80))"
   ]
  },
  {
   "cell_type": "markdown",
   "metadata": {},
   "source": [
    "**The global summary has also improved compared to the naive method!**"
   ]
  }
 ],
 "metadata": {
  "kernelspec": {
   "display_name": "hack",
   "language": "python",
   "name": "python3"
  },
  "language_info": {
   "codemirror_mode": {
    "name": "ipython",
    "version": 3
   },
   "file_extension": ".py",
   "mimetype": "text/x-python",
   "name": "python",
   "nbconvert_exporter": "python",
   "pygments_lexer": "ipython3",
   "version": "3.9.16"
  },
  "orig_nbformat": 4
 },
 "nbformat": 4,
 "nbformat_minor": 2
}
